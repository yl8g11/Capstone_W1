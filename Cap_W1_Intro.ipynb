{
    "nbformat_minor": 2, 
    "cells": [
        {
            "source": "## The Most Overrated and Underrated Restaurants Nearby", 
            "cell_type": "markdown", 
            "metadata": {}
        }, 
        {
            "source": "### 1. Introduction/Business Problem", 
            "cell_type": "markdown", 
            "metadata": {}
        }, 
        {
            "source": "When people choose a new restaurant to try, they will often first go on-line to compare the ratings of several potential restaurants and then pick the one with higher rating to have their meals. In most cases, people tend to have very a high expectation for these highly rated restaurants. But the reality is that some of these restaurants may be overrated and the dining experience is not as pleasant as the website described. There are several reasons why a restaurant could be overrated. It might be that the restaurant is literally bad but happened to be rated by a very small group of people with high tolerance. It might also be due to intentional exaggeration by other raters for their own sake regardless of the restaurant's actual quality.\n\nOn the other hand, some restaurants may be underrated, even if they provide very good food and service at a relatively cheap price. When people just had a meal in these restaurants, they could only wish that they had known these restaurants much earlier.\n\nGiven that the on-line ratings might be misleading and could result in unwise choice of restaurants, it is important to build a system to detect the highly overrated and highly underrated restaurants around a location. Providing a list of these restaurants would benefit food lovers as they could avoid the overrated restaurants and try some of the underrated ones to have a better dining experience in the future.\n\nIn order to detect overrated and underrated restaurants, we are going to use the Foursquare API to **explore** the potential restaurants around a location (default is North York, ON). After getting their venue IDs, we will collect **venues** information of each restaurant, including **price**,  the count of **likes**, and their **rating**. Finally, we are going to utilize the multiple linear regression algorithm to make predictions to complete the task.", 
            "cell_type": "markdown", 
            "metadata": {}
        }, 
        {
            "execution_count": null, 
            "cell_type": "code", 
            "metadata": {}, 
            "outputs": [], 
            "source": ""
        }
    ], 
    "metadata": {
        "kernelspec": {
            "display_name": "Python 3", 
            "name": "python3", 
            "language": "python"
        }, 
        "language_info": {
            "mimetype": "text/x-python", 
            "nbconvert_exporter": "python", 
            "version": "3.6.5", 
            "name": "python", 
            "file_extension": ".py", 
            "pygments_lexer": "ipython3", 
            "codemirror_mode": {
                "version": 3, 
                "name": "ipython"
            }
        }
    }, 
    "nbformat": 4
}